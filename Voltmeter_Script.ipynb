{
 "cells": [
  {
   "cell_type": "code",
   "execution_count": null,
   "metadata": {},
   "outputs": [],
   "source": [
    "import os\n",
    "import pandas as pd\n",
    "import glob"
   ]
  },
  {
   "cell_type": "code",
   "execution_count": null,
   "metadata": {},
   "outputs": [],
   "source": [
    "print(os.getcwd())\n",
    "os.chdir(\"./TrainOps Results\")\n",
    "print(os.getcwd())\n",
    "\n",
    "listScenarios= glob.glob('*/')\n",
    "\n",
    "for j in listScenarios:\n",
    "    print(j)\n",
    "\n",
    "print(len(listScenarios))\n",
    "\n",
    "voltmeterAllList = []\n",
    "\n",
    "for f in listScenarios:\n",
    "\n",
    "    os.chdir(\"./\" + f)\n",
    "\n",
    "    print(\"Current Dir: \" , os.getcwd())\n",
    "\n",
    "    voltmeterFiles = [f for f in glob.glob(\"*Voltmeters*.txt\")]\n",
    "    \n",
    "    print(len(voltmeterFiles))\n",
    "\n",
    "    dfAllList = []\n",
    "\n",
    "    for i in voltmeterFiles:\n",
    "\n",
    "        df = pd.read_table(i, sep=\"\\t\", skiprows=6)\n",
    "\n",
    "        maxVolt= max(df[\"Voltage (V)\"])\n",
    "        minVolt= min(df[\"Voltage (V)\"])\n",
    "        fileName= i\n",
    "        scenario= f.replace(\"/\",\"\")\n",
    "\n",
    "        d = dict(((k, eval(k)) for k in (\"scenario\", \"fileName\", 'maxVolt', 'minVolt')))\n",
    "\n",
    "        VoltDF = pd.DataFrame([d])\n",
    "\n",
    "        dfAllList.append(VoltDF)\n",
    "\n",
    "    voltDfAll = pd.concat(dfAllList, axis=0, ignore_index=True)\n",
    "\n",
    "    path_parent = os.path.dirname(os.getcwd())\n",
    "\n",
    "    os.chdir(path_parent)\n",
    "\n",
    "    #voltmeterOutput = scenario + \"_voltmeter_scenario.csv\"\n",
    "\n",
    "    #voltDfAll.to_csv(voltmeterOutput)\n",
    "\n",
    "    voltmeterAllList.append(voltDfAll)\n",
    "\n",
    "df_final = pd.concat(voltmeterAllList, axis=0, ignore_index=True)"
   ]
  },
  {
   "cell_type": "code",
   "execution_count": null,
   "metadata": {},
   "outputs": [],
   "source": [
    "##df_final.reset_index(level=0, inplace=True)"
   ]
  },
  {
   "cell_type": "code",
   "execution_count": null,
   "metadata": {},
   "outputs": [],
   "source": [
    "voltmeter_grp = df_final.groupby(['fileName'])"
   ]
  },
  {
   "cell_type": "code",
   "execution_count": null,
   "metadata": {},
   "outputs": [],
   "source": [
    "max_volt_df = voltmeter_grp['maxVolt'].max().to_frame()\n",
    "max_volt_df.to_csv(\"max_volt_df.csv\")\n",
    "\n",
    "min_volt_df = voltmeter_grp['minVolt'].min().to_frame()\n",
    "min_volt_df.to_csv(\"min_volt_df.csv\")"
   ]
  },
  {
   "cell_type": "code",
   "execution_count": null,
   "metadata": {},
   "outputs": [],
   "source": [
    "max_df = pd.merge(max_volt_df, df_final, \n",
    "                  on=['maxVolt', 'fileName'] , how='left').drop(['minVolt'], axis=1)"
   ]
  },
  {
   "cell_type": "code",
   "execution_count": null,
   "metadata": {},
   "outputs": [],
   "source": [
    "min_df = pd.merge(min_volt_df, df_final, \n",
    "                  on=['minVolt','fileName'] , how='left').drop(['maxVolt'], axis=1)"
   ]
  },
  {
   "cell_type": "code",
   "execution_count": null,
   "metadata": {},
   "outputs": [],
   "source": [
    "final_df = pd.merge(max_df, min_df, on=['fileName'], \n",
    "         how='inner', suffixes=('_maxVolt', '_minVolt'))"
   ]
  },
  {
   "cell_type": "code",
   "execution_count": null,
   "metadata": {},
   "outputs": [],
   "source": [
    "final_df.rename(columns={'fileName':'voltmeter'}, inplace=True)"
   ]
  },
  {
   "cell_type": "code",
   "execution_count": null,
   "metadata": {},
   "outputs": [],
   "source": [
    "column_titles = ['voltmeter','maxVolt','scenario_maxVolt', 'minVolt', 'scenario_minVolt']\n",
    "\n",
    "df = final_df.reindex(columns=column_titles)"
   ]
  },
  {
   "cell_type": "code",
   "execution_count": null,
   "metadata": {},
   "outputs": [],
   "source": [
    "df.to_csv(\"voltmeter_summary.csv\", index=False)"
   ]
  }
 ],
 "metadata": {
  "kernelspec": {
   "display_name": "Python 3",
   "language": "python",
   "name": "python3"
  },
  "language_info": {
   "codemirror_mode": {
    "name": "ipython",
    "version": 3
   },
   "file_extension": ".py",
   "mimetype": "text/x-python",
   "name": "python",
   "nbconvert_exporter": "python",
   "pygments_lexer": "ipython3",
   "version": "3.7.2"
  }
 },
 "nbformat": 4,
 "nbformat_minor": 2
}
